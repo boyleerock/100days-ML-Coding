{
 "cells": [
  {
   "cell_type": "code",
   "execution_count": null,
   "metadata": {},
   "outputs": [],
   "source": [
    "from IPython.display import Image\n",
    "Image(filename='Questions/Day 3.jpg') "
   ]
  },
  {
   "cell_type": "code",
   "execution_count": 1,
   "metadata": {},
   "outputs": [],
   "source": [
    "# Step 1: Data Preprocessing\n",
    "# Import the Libraries\n",
    "\n",
    "import pandas as pd\n",
    "import numpy as np"
   ]
  },
  {
   "cell_type": "code",
   "execution_count": 2,
   "metadata": {},
   "outputs": [
    {
     "name": "stdout",
     "output_type": "stream",
     "text": [
      "50\n",
      "   R&D Spend  Administration  Marketing Spend       State     Profit\n",
      "0  165349.20       136897.80        471784.10    New York  192261.83\n",
      "1  162597.70       151377.59        443898.53  California  191792.06\n",
      "2  153441.51       101145.55        407934.54     Florida  191050.39\n",
      "3  144372.41       118671.85        383199.62    New York  182901.99\n",
      "4  142107.34        91391.77        366168.42     Florida  166187.94\n"
     ]
    }
   ],
   "source": [
    "# Importing the dataset\n",
    "\n",
    "dataset = pd.read_csv('datasets/50_Startups.csv')\n",
    "print(len(dataset))\n",
    "print(dataset.head())"
   ]
  },
  {
   "cell_type": "code",
   "execution_count": 3,
   "metadata": {},
   "outputs": [
    {
     "name": "stdout",
     "output_type": "stream",
     "text": [
      "[[165349.2 136897.8 471784.1 'New York']\n",
      " [162597.7 151377.59 443898.53 'California']\n",
      " [153441.51 101145.55 407934.54 'Florida']\n",
      " [144372.41 118671.85 383199.62 'New York']\n",
      " [142107.34 91391.77 366168.42 'Florida']]\n",
      "[192261.83 191792.06 191050.39 182901.99 166187.94]\n"
     ]
    }
   ],
   "source": [
    "X = dataset.iloc[ : , :-1].values\n",
    "Y = dataset.iloc[ : ,  4 ].values\n",
    "print(X[:5])\n",
    "print(Y[:5])"
   ]
  },
  {
   "cell_type": "code",
   "execution_count": 4,
   "metadata": {
    "scrolled": true
   },
   "outputs": [
    {
     "name": "stdout",
     "output_type": "stream",
     "text": [
      "[[165349.2 136897.8 471784.1 2]\n",
      " [162597.7 151377.59 443898.53 0]\n",
      " [153441.51 101145.55 407934.54 1]\n",
      " [144372.41 118671.85 383199.62 2]\n",
      " [142107.34 91391.77 366168.42 1]]\n",
      "[['0.0' '0.0' '1.0' '165349.2' '136897.8' '471784.1']\n",
      " ['1.0' '0.0' '0.0' '162597.7' '151377.59' '443898.53']\n",
      " ['0.0' '1.0' '0.0' '153441.51' '101145.55' '407934.54']\n",
      " ['0.0' '0.0' '1.0' '144372.41' '118671.85' '383199.62']\n",
      " ['0.0' '1.0' '0.0' '142107.34' '91391.77' '366168.42']]\n"
     ]
    }
   ],
   "source": [
    "# Encoding Categorical data\n",
    "\n",
    "from sklearn.preprocessing import LabelEncoder, OneHotEncoder\n",
    "\n",
    "labelencoder = LabelEncoder()\n",
    "X[:,3] = labelencoder.fit_transform(X[ : , 3])\n",
    "print(X[:5])\n",
    "\n",
    "from sklearn.compose import ColumnTransformer\n",
    "\n",
    "columnTransformer = ColumnTransformer([('encoder', OneHotEncoder(), [3])], remainder='passthrough')\n",
    "X=np.array(columnTransformer.fit_transform(X),dtype=np.str)\n",
    "print(X[:5])"
   ]
  },
  {
   "cell_type": "code",
   "execution_count": 5,
   "metadata": {
    "scrolled": true
   },
   "outputs": [
    {
     "name": "stdout",
     "output_type": "stream",
     "text": [
      "[['0.0' '1.0' '165349.2' '136897.8' '471784.1']\n",
      " ['0.0' '0.0' '162597.7' '151377.59' '443898.53']\n",
      " ['1.0' '0.0' '153441.51' '101145.55' '407934.54']\n",
      " ['0.0' '1.0' '144372.41' '118671.85' '383199.62']\n",
      " ['1.0' '0.0' '142107.34' '91391.77' '366168.42']\n",
      " ['0.0' '1.0' '131876.9' '99814.71' '362861.36']\n",
      " ['0.0' '0.0' '134615.46' '147198.87' '127716.82']\n",
      " ['1.0' '0.0' '130298.13' '145530.06' '323876.68']\n",
      " ['0.0' '1.0' '120542.52' '148718.95' '311613.29']\n",
      " ['0.0' '0.0' '123334.88' '108679.17' '304981.62']\n",
      " ['1.0' '0.0' '101913.08' '110594.11' '229160.95']\n",
      " ['0.0' '0.0' '100671.96' '91790.61' '249744.55']\n",
      " ['1.0' '0.0' '93863.75' '127320.38' '249839.44']\n",
      " ['0.0' '0.0' '91992.39' '135495.07' '252664.93']\n",
      " ['1.0' '0.0' '119943.24' '156547.42' '256512.92']\n",
      " ['0.0' '1.0' '114523.61' '122616.84' '261776.23']\n",
      " ['0.0' '0.0' '78013.11' '121597.55' '264346.06']\n",
      " ['0.0' '1.0' '94657.16' '145077.58' '282574.31']\n",
      " ['1.0' '0.0' '91749.16' '114175.79' '294919.57']\n",
      " ['0.0' '1.0' '86419.7' '153514.11' '0.0']\n",
      " ['0.0' '0.0' '76253.86' '113867.3' '298664.47']\n",
      " ['0.0' '1.0' '78389.47' '153773.43' '299737.29']\n",
      " ['1.0' '0.0' '73994.56' '122782.75' '303319.26']\n",
      " ['1.0' '0.0' '67532.53' '105751.03' '304768.73']\n",
      " ['0.0' '1.0' '77044.01' '99281.34' '140574.81']\n",
      " ['0.0' '0.0' '64664.71' '139553.16' '137962.62']\n",
      " ['1.0' '0.0' '75328.87' '144135.98' '134050.07']\n",
      " ['0.0' '1.0' '72107.6' '127864.55' '353183.81']\n",
      " ['1.0' '0.0' '66051.52' '182645.56' '118148.2']\n",
      " ['0.0' '1.0' '65605.48' '153032.06' '107138.38']\n",
      " ['1.0' '0.0' '61994.48' '115641.28' '91131.24']\n",
      " ['0.0' '1.0' '61136.38' '152701.92' '88218.23']\n",
      " ['0.0' '0.0' '63408.86' '129219.61' '46085.25']\n",
      " ['1.0' '0.0' '55493.95' '103057.49' '214634.81']\n",
      " ['0.0' '0.0' '46426.07' '157693.92' '210797.67']\n",
      " ['0.0' '1.0' '46014.02' '85047.44' '205517.64']\n",
      " ['1.0' '0.0' '28663.76' '127056.21' '201126.82']\n",
      " ['0.0' '0.0' '44069.95' '51283.14' '197029.42']\n",
      " ['0.0' '1.0' '20229.59' '65947.93' '185265.1']\n",
      " ['0.0' '0.0' '38558.51' '82982.09' '174999.3']\n",
      " ['0.0' '0.0' '28754.33' '118546.05' '172795.67']\n",
      " ['1.0' '0.0' '27892.92' '84710.77' '164470.71']\n",
      " ['0.0' '0.0' '23640.93' '96189.63' '148001.11']\n",
      " ['0.0' '1.0' '15505.73' '127382.3' '35534.17']\n",
      " ['0.0' '0.0' '22177.74' '154806.14' '28334.72']\n",
      " ['0.0' '1.0' '1000.23' '124153.04' '1903.93']\n",
      " ['1.0' '0.0' '1315.46' '115816.21' '297114.46']\n",
      " ['0.0' '0.0' '0.0' '135426.92' '0.0']\n",
      " ['0.0' '1.0' '542.05' '51743.15' '0.0']\n",
      " ['0.0' '0.0' '0.0' '116983.8' '45173.06']]\n"
     ]
    }
   ],
   "source": [
    "# Avoiding Dummy Variable Trap\n",
    "\n",
    "X = X[ : , 1: ]\n",
    "print(X)"
   ]
  },
  {
   "cell_type": "code",
   "execution_count": 6,
   "metadata": {},
   "outputs": [
    {
     "name": "stdout",
     "output_type": "stream",
     "text": [
      "40\n",
      "40\n",
      "10\n",
      "10\n"
     ]
    }
   ],
   "source": [
    "# Splitting the dataset into the Training set and Test set\n",
    "\n",
    "from sklearn.model_selection import train_test_split\n",
    "X_train, X_test, Y_train, Y_test = train_test_split(X, Y, test_size = 0.2, random_state = 0)\n",
    "print(len(X_train))\n",
    "print(len(Y_train))\n",
    "print(len(X_test))\n",
    "print(len(Y_test))"
   ]
  },
  {
   "cell_type": "code",
   "execution_count": 7,
   "metadata": {},
   "outputs": [
    {
     "name": "stdout",
     "output_type": "stream",
     "text": [
      "LinearRegression()\n"
     ]
    },
    {
     "name": "stderr",
     "output_type": "stream",
     "text": [
      "C:\\Users\\BoyLee\\anaconda3\\lib\\site-packages\\sklearn\\utils\\validation.py:63: FutureWarning: Arrays of bytes/strings is being converted to decimal numbers if dtype='numeric'. This behavior is deprecated in 0.24 and will be removed in 1.1 (renaming of 0.26). Please convert your data to numeric values explicitly instead.\n",
      "  return f(*args, **kwargs)\n"
     ]
    }
   ],
   "source": [
    "# Step 2: Fitting Multiple Linear Regression to the Training set\n",
    "\n",
    "from sklearn.linear_model import LinearRegression\n",
    "regressor = LinearRegression()\n",
    "regressor.fit(X_train, Y_train)\n",
    "print(regressor)"
   ]
  },
  {
   "cell_type": "code",
   "execution_count": 8,
   "metadata": {},
   "outputs": [
    {
     "name": "stdout",
     "output_type": "stream",
     "text": [
      "[103015.20159796 132582.27760815 132447.73845175  71976.09851258\n",
      " 178537.48221056 116161.24230166  67851.69209676  98791.73374687\n",
      " 113969.43533013 167921.06569551]\n",
      "10\n"
     ]
    },
    {
     "name": "stderr",
     "output_type": "stream",
     "text": [
      "C:\\Users\\BoyLee\\anaconda3\\lib\\site-packages\\sklearn\\utils\\validation.py:63: FutureWarning: Arrays of bytes/strings is being converted to decimal numbers if dtype='numeric'. This behavior is deprecated in 0.24 and will be removed in 1.1 (renaming of 0.26). Please convert your data to numeric values explicitly instead.\n",
      "  return f(*args, **kwargs)\n"
     ]
    }
   ],
   "source": [
    "# Step 3: Predicting the Test set results\n",
    "\n",
    "Y_pred = regressor.predict(X_test)\n",
    "print(Y_pred)\n",
    "print(len(Y_pred))"
   ]
  },
  {
   "cell_type": "code",
   "execution_count": null,
   "metadata": {},
   "outputs": [],
   "source": []
  }
 ],
 "metadata": {
  "kernelspec": {
   "display_name": "Python 3",
   "language": "python",
   "name": "python3"
  },
  "language_info": {
   "codemirror_mode": {
    "name": "ipython",
    "version": 3
   },
   "file_extension": ".py",
   "mimetype": "text/x-python",
   "name": "python",
   "nbconvert_exporter": "python",
   "pygments_lexer": "ipython3",
   "version": "3.8.8"
  }
 },
 "nbformat": 4,
 "nbformat_minor": 4
}
